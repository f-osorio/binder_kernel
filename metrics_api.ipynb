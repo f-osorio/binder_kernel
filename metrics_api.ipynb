{
  "cells": [
    {
      "cell_type": "code",
      "metadata": {
        "id": "P6RdNcX-AqAl",
        "colab_type": "code",
        "colab": {}
      },
      "source": [
        "import json"
      ],
      "execution_count": 0,
      "outputs": []
    },
    {
      "cell_type": "code",
      "metadata": {
        "id": "VwsPz9T1IxIa",
        "colab_type": "code",
        "colab": {}
      },
      "source": [
        "# Errors\n",
        "class NotFound(Exception):\n",
        "  def __init__(self, type_name, id):\n",
        "    self.msg = f'There are no item in {type_name} with the id {id}.'\n",
        "\n",
        "class WrongTable(Exception):\n",
        "  def __init__(self, table):\n",
        "    self.msg = f'Check Table name. Couldn\\'t find {table}.'\n",
        "\n",
        "\n",
        "# Helper functions\n",
        "def to_json(cur, data):\n",
        "  json_data = []\n",
        "  row_headers = [x[0] for x in cur.description]\n",
        "  for result in data:\n",
        "    json_data.append(dict(zip(row_headers, result)))\n",
        "  \n",
        "  try:\n",
        "    return json.dumps(json_data)\n",
        "  except Exception:\n",
        "    return json_data\n",
        "\n",
        "\n",
        "def print_response(response, content_type = 'application/json'):\n",
        "  if content_type == 'application/json':\n",
        "    return json.dumps({\n",
        "        'success': True,\n",
        "        'data': response\n",
        "    })\n",
        "  else:\n",
        "    return ':('\n",
        "\n",
        "def create_error(code, error_type, message):\n",
        "  return json.dumps({\n",
        "      'success': False,\n",
        "      'code': code,\n",
        "      'type': error_type,\n",
        "      'message': message\n",
        "  })"
      ],
      "execution_count": 0,
      "outputs": []
    },
    {
      "cell_type": "markdown",
      "metadata": {
        "id": "9W53xrVDK-JL",
        "colab_type": "text"
      },
      "source": [
        "# GET /:table/record/:id\n",
        "*Get JSON record for given item in table*\n",
        "* table (required): the name of the table to query\n",
        "* id (required): the ID of the object. Either doi or ISSN, depending on the table"
      ]
    },
    {
      "cell_type": "code",
      "metadata": {
        "id": "IsYULemYQA1i",
        "colab_type": "code",
        "colab": {}
      },
      "source": [
        "REQUEST = json.dumps({\n",
        "    'path': {\n",
        "        'value': '1'\n",
        "    }\n",
        "})"
      ],
      "execution_count": 0,
      "outputs": []
    },
    {
      "cell_type": "code",
      "metadata": {
        "id": "WuOzVZ3pIxZQ",
        "colab_type": "code",
        "colab": {}
      },
      "source": [
        "# GET /:value\n",
        "try:\n",
        "  req = json.loads(REQUEST)\n",
        "  value = req['path']['value']\n",
        "  response = print_response(value)\n",
        "except NotFound as e:\n",
        "  response = create_error(405, 'NotFound', e.msg)\n",
        "except WrongTable as e:\n",
        "  response = create_error(405, 'TableNameError', e.msg)\n",
        "except Exception as e:\n",
        "  response = e.errno\n",
        "finally:\n",
        "  print(response)"
      ],
      "execution_count": 0,
      "outputs": []
    },
    {
      "cell_type": "code",
      "execution_count": null,
      "metadata": {},
      "outputs": [],
      "source": [
        "# GET /\n",
        "print(print_response(\"It's working\"))"
      ]
    }
  ],
  "metadata": {
    "colab": {
      "name": "metrics_api.ipynb",
      "provenance": [],
      "collapsed_sections": []
    },
    "kernelspec": {
      "name": "python3",
      "display_name": "Python 3"
    }
  },
  "nbformat": 4,
  "nbformat_minor": 0
}